{
 "cells": [
  {
   "cell_type": "code",
   "execution_count": 2,
   "id": "ff3ba842",
   "metadata": {},
   "outputs": [
    {
     "name": "stdout",
     "output_type": "stream",
     "text": [
      "[1 2 3 5 4]\n",
      "<class 'numpy.ndarray'>\n",
      "(5,)\n"
     ]
    }
   ],
   "source": [
    "import numpy as np\n",
    "## creating arrays in numpy\n",
    "#1-D array\n",
    "\n",
    "arr1 = np.array([1,2,3,5,4])\n",
    "print(arr1)\n",
    "print(type(arr1))\n",
    "print(arr1.shape)"
   ]
  },
  {
   "cell_type": "code",
   "execution_count": 7,
   "id": "02e1c670",
   "metadata": {},
   "outputs": [
    {
     "name": "stdout",
     "output_type": "stream",
     "text": [
      "[[1 2 3 4 5]\n",
      " [6 7 8 9 0]]\n",
      "(2, 5)\n"
     ]
    }
   ],
   "source": [
    "##2D arrays\n",
    "arr2 = np.array([[1,2,3,4,5],[6,7,8,9,0]])\n",
    "print(arr2)\n",
    "print(arr2.shape)"
   ]
  },
  {
   "cell_type": "code",
   "execution_count": 14,
   "id": "da7ccec3",
   "metadata": {},
   "outputs": [
    {
     "data": {
      "text/plain": [
       "array([0, 2, 4, 6, 8])"
      ]
     },
     "execution_count": 14,
     "metadata": {},
     "output_type": "execute_result"
    }
   ],
   "source": [
    "np.arange(0, 10, 2).reshape(5,)"
   ]
  },
  {
   "cell_type": "code",
   "execution_count": 19,
   "id": "a7037936",
   "metadata": {},
   "outputs": [
    {
     "data": {
      "text/plain": [
       "array([[1., 1., 1.],\n",
       "       [1., 1., 1.],\n",
       "       [1., 1., 1.]])"
      ]
     },
     "execution_count": 19,
     "metadata": {},
     "output_type": "execute_result"
    }
   ],
   "source": [
    "np.ones((3,3))"
   ]
  },
  {
   "cell_type": "code",
   "execution_count": 18,
   "id": "c6c05001",
   "metadata": {},
   "outputs": [
    {
     "data": {
      "text/plain": [
       "array([[0., 0.],\n",
       "       [0., 0.]])"
      ]
     },
     "execution_count": 18,
     "metadata": {},
     "output_type": "execute_result"
    }
   ],
   "source": [
    "np.zeros((2,2))"
   ]
  },
  {
   "cell_type": "code",
   "execution_count": null,
   "id": "c5263a0f",
   "metadata": {},
   "outputs": [
    {
     "data": {
      "text/plain": [
       "array([[1., 0., 0.],\n",
       "       [0., 1., 0.],\n",
       "       [0., 0., 1.]])"
      ]
     },
     "execution_count": 20,
     "metadata": {},
     "output_type": "execute_result"
    }
   ],
   "source": [
    "np.eye(3)##diagonal elements will be 1, rest will be zero"
   ]
  },
  {
   "cell_type": "code",
   "execution_count": 21,
   "id": "e320ca7d",
   "metadata": {},
   "outputs": [
    {
     "name": "stdout",
     "output_type": "stream",
     "text": [
      "Addition [ 7  9 12 11  5]\n",
      "Subtraction [ 5  5  6  3 -5]\n"
     ]
    }
   ],
   "source": [
    "##numpy vectorised operation\n",
    "arr1 = np.array([1,2,3,4,5])\n",
    "arr2 = np.array([6,7,9,7,0])\n",
    "print(\"Addition\", arr1 + arr2)\n",
    "print(\"Subtraction\", arr2 - arr1)"
   ]
  },
  {
   "cell_type": "code",
   "execution_count": 23,
   "id": "672535fb",
   "metadata": {},
   "outputs": [
    {
     "name": "stdout",
     "output_type": "stream",
     "text": [
      "[1.41421356 2.         2.23606798 2.64575131 3.        ]\n",
      "[ 0.90929743 -0.7568025  -0.95892427  0.6569866   0.41211849]\n",
      "[7.38905610e+00 5.45981500e+01 1.48413159e+02 1.09663316e+03\n",
      " 8.10308393e+03]\n",
      "[0.69314718 1.38629436 1.60943791 1.94591015 2.19722458]\n"
     ]
    }
   ],
   "source": [
    "## universal function\n",
    "arr = np.array([2,4,5,7,9])\n",
    "print(np.sqrt(arr))\n",
    "print(np.sin(arr))\n",
    "print(np.exp(arr))\n",
    "print(np.log(arr))\n"
   ]
  },
  {
   "cell_type": "code",
   "execution_count": 46,
   "id": "2f7714b8",
   "metadata": {},
   "outputs": [
    {
     "name": "stdout",
     "output_type": "stream",
     "text": [
      "Array: \n",
      " [[1 2 3 4 5]\n",
      " [6 7 9 8 0]\n",
      " [3 6 8 1 2]]\n",
      "1\n",
      "1\n",
      "[[1 2]\n",
      " [6 7]]\n"
     ]
    }
   ],
   "source": [
    "## Array slicing and indexing\n",
    "arr = np.array([[1,2,3,4,5],[6,7,9,8,0],[3,6,8,1,2]])\n",
    "print(\"Array: \\n\", arr)\n",
    "print(arr[0, 0])\n",
    "print(arr[0][0])\n",
    "print(arr[0:2,0:2])\n"
   ]
  },
  {
   "cell_type": "code",
   "execution_count": 47,
   "id": "051bb9cc",
   "metadata": {},
   "outputs": [
    {
     "name": "stdout",
     "output_type": "stream",
     "text": [
      "[[100   2   3   4   5]\n",
      " [  6   7   9   8   0]\n",
      " [  3   6   8   1   2]]\n"
     ]
    }
   ],
   "source": [
    "##modify array elements\n",
    "arr[0,0] = 100\n",
    "print(arr)"
   ]
  },
  {
   "cell_type": "code",
   "execution_count": 48,
   "id": "7c95dd90",
   "metadata": {},
   "outputs": [
    {
     "name": "stdout",
     "output_type": "stream",
     "text": [
      "3.2\n",
      "3.0\n",
      "1.7204650534085253\n",
      "2.96\n"
     ]
    }
   ],
   "source": [
    "## statistical concepts\n",
    "arr = ([1,2,3,4,6])\n",
    "mean = np.mean(arr)\n",
    "median = np.median(arr)\n",
    "std_dev = np.std(arr)\n",
    "var = np. var(arr)\n",
    "print(mean)\n",
    "print(median)\n",
    "print(std_dev)\n",
    "print(var)"
   ]
  },
  {
   "cell_type": "code",
   "execution_count": 50,
   "id": "89948315",
   "metadata": {},
   "outputs": [
    {
     "data": {
      "text/plain": [
       "array([67,  8,  9, 10])"
      ]
     },
     "execution_count": 50,
     "metadata": {},
     "output_type": "execute_result"
    }
   ],
   "source": [
    "data = np.array([1,2,3,4,5,67,8,9,10])\n",
    "data > 5\n",
    "data[data> 5]"
   ]
  },
  {
   "cell_type": "code",
   "execution_count": null,
   "id": "92ddc7aa",
   "metadata": {},
   "outputs": [
    {
     "name": "stdout",
     "output_type": "stream",
     "text": [
      "[ 3  6  9 12 15]\n",
      "[1 2 3 4 5]\n",
      "3\n",
      "[1.         1.41421356 1.73205081 2.         2.23606798]\n"
     ]
    }
   ],
   "source": [
    "A = np.array([1,2,3,4,5])\n",
    "B = np.array([2,4,6,8,10])\n",
    "print(A + B)\n",
    "print(B - A)\n",
    "mn = np.mean(A)\n",
    "print(int(mn))\n",
    "print(np.sqrt(A))\n",
    "print()"
   ]
  },
  {
   "cell_type": "code",
   "execution_count": 63,
   "id": "2554f6bb",
   "metadata": {},
   "outputs": [
    {
     "name": "stdout",
     "output_type": "stream",
     "text": [
      "30\n"
     ]
    }
   ],
   "source": [
    "B = np.array([2,4,6,8,10])\n",
    "print(np.sum(B))"
   ]
  },
  {
   "cell_type": "code",
   "execution_count": null,
   "id": "41d56bdf",
   "metadata": {},
   "outputs": [
    {
     "name": "stdout",
     "output_type": "stream",
     "text": [
      "(2, 3)\n",
      "[[[1 2]\n",
      "  [3 4]]\n",
      "\n",
      " [[5 6]\n",
      "  [7 8]]]\n",
      "(2, 2, 2)\n"
     ]
    }
   ],
   "source": [
    "\n",
    "\n",
    "import numpy as np\n",
    "\n",
    "# 3D Array\n",
    "arr_3d = np.array([[[1, 2], [3, 4]], [[5, 6], [7, 8]]])\n",
    "print(arr_3d)\n",
    "print(arr_3d.shape)  # (2, 2, 2)\n"
   ]
  },
  {
   "cell_type": "code",
   "execution_count": 2,
   "id": "977d7d69",
   "metadata": {},
   "outputs": [
    {
     "name": "stdout",
     "output_type": "stream",
     "text": [
      "[[ 3 11  7  1 18]\n",
      " [13 19 20 17  7]\n",
      " [12  9 12 19  8]\n",
      " [10  8 12 15  8]\n",
      " [ 7 20 16 18 13]]\n"
     ]
    }
   ],
   "source": [
    "import random\n",
    "import numpy as np\n",
    "ans = np.random.randint(1, 21, size = (5, 5))\n",
    "print(ans)\n",
    "                \n"
   ]
  },
  {
   "cell_type": "code",
   "execution_count": 27,
   "id": "d1c3495e",
   "metadata": {},
   "outputs": [
    {
     "name": "stdout",
     "output_type": "stream",
     "text": [
      "[[ 1  2  3  4  5  6]\n",
      " [ 7  8  9 10 11 12]\n",
      " [13 14 15 16 17 18]\n",
      " [19 20 21 22 23 24]\n",
      " [25 26 27 28 29 30]\n",
      " [31 32 33 34 35 36]]\n",
      "Sub Array\n",
      "[[14 15 16]\n",
      " [20 21 22]\n",
      " [26 27 28]]\n"
     ]
    }
   ],
   "source": [
    "ans1 = np.arange(1, 37).reshape(6, 6)\n",
    "print(ans1)\n",
    "print(\"Sub Array\")\n",
    "print(ans1[2:5,1:4])"
   ]
  },
  {
   "cell_type": "code",
   "execution_count": null,
   "id": "ca548f43",
   "metadata": {},
   "outputs": [
    {
     "name": "stdout",
     "output_type": "stream",
     "text": [
      "[[20  5 14  5]\n",
      " [ 9  7  9 19]\n",
      " [20 19  8  7]]\n",
      "[[33 42 33 26]\n",
      " [29 36 35 34]\n",
      " [30 32 25 34]]\n",
      "[[53 47 47 31]\n",
      " [38 43 44 53]\n",
      " [50 51 33 41]]\n",
      "Addition:\n",
      " [[53 47 47 31]\n",
      " [38 43 44 53]\n",
      " [50 51 33 41]]\n",
      "[[-13 -37 -19 -21]\n",
      " [-20 -29 -26 -15]\n",
      " [-10 -13 -17 -27]]\n"
     ]
    }
   ],
   "source": [
    "num1 = np.random.randint(5, 21, size = (3, 4))\n",
    "num2 = np.random.randint(22, 43, size= (3, 4))\n",
    "print(num1)\n",
    "print(num2)\n",
    "\n",
    "Addition = num1 + num2\n",
    "print(Addition)\n",
    "Ad = np.add(num1, num2)\n",
    "print(\"Addition:\\n\",Ad)\n",
    "sub = np.subtract(num1, num2)\n",
    "print(sub)\n"
   ]
  },
  {
   "cell_type": "code",
   "execution_count": 38,
   "id": "ab641a04",
   "metadata": {},
   "outputs": [
    {
     "data": {
      "text/plain": [
       "array([20,  5, 14,  5,  9,  7,  9, 19, 20, 19,  8,  7], dtype=int32)"
      ]
     },
     "execution_count": 38,
     "metadata": {},
     "output_type": "execute_result"
    }
   ],
   "source": [
    "np.concatenate(num1)"
   ]
  },
  {
   "cell_type": "code",
   "execution_count": null,
   "id": "a046de34",
   "metadata": {},
   "outputs": [
    {
     "name": "stdout",
     "output_type": "stream",
     "text": [
      "[[1 2 3]\n",
      " [4 5 6]\n",
      " [7 8 9]]\n",
      "5.0\n",
      "5.0\n"
     ]
    }
   ],
   "source": [
    "ar = np.arange(1,10).reshape(3, 3)\n",
    "print(ar)\n",
    "print(np.mean(ar))\n",
    "print(np.median(ar))\n",
    "\n"
   ]
  },
  {
   "cell_type": "code",
   "execution_count": 15,
   "id": "dcbd9067",
   "metadata": {},
   "outputs": [
    {
     "name": "stdout",
     "output_type": "stream",
     "text": [
      "Original array:\n",
      "[[ 2 10  5]\n",
      " [ 6  4  7]\n",
      " [ 2  6  2]]\n",
      "1D array:\n",
      "[4 6 6]\n",
      "Resulting array:\n",
      "[[ 6 16 11]\n",
      " [10 10 13]\n",
      " [ 6 12  8]]\n",
      "My ans\n",
      "[[ 6 16 11]\n",
      " [10 10 13]\n",
      " [ 6 12  8]]\n"
     ]
    }
   ],
   "source": [
    "array = np.random.randint(1, 11, size=(3, 3))\n",
    "row_array = np.random.randint(1, 11, size=(3,))\n",
    "print(\"Original array:\")\n",
    "print(array)\n",
    "print(\"1D array:\")\n",
    "print(row_array)\n",
    "\n",
    "# Add the 1D array to each row of the 2D array using broadcasting\n",
    "result = array + row_array\n",
    "print(\"Resulting array:\")\n",
    "print(result)\n",
    "print(\"My ans\")\n",
    "ans = np.add(array, row_array)\n",
    "print(ans)\n",
    "\n"
   ]
  },
  {
   "cell_type": "code",
   "execution_count": 18,
   "id": "de5edfa8",
   "metadata": {},
   "outputs": [
    {
     "name": "stdout",
     "output_type": "stream",
     "text": [
      "Original array:\n",
      "[[12  2 19 19]\n",
      " [17 19 12  9]\n",
      " [ 2 12 16  9]\n",
      " [ 7 11 17  7]]\n",
      "Masked array:\n",
      "[[-- 2 -- --]\n",
      " [-- -- -- 9]\n",
      " [2 -- -- 9]\n",
      " [7 -- -- 7]]\n",
      "Lesser array\n",
      "[[12 -- 19 19]\n",
      " [17 19 12 --]\n",
      " [-- 12 16 --]\n",
      " [-- 11 17 --]]\n"
     ]
    }
   ],
   "source": [
    "import numpy.ma as ma\n",
    "\n",
    "array = np.random.randint(1, 21, size=(4, 4))\n",
    "masked_array = ma.masked_greater(array, 10)\n",
    "less = ma.masked_less(array, 10)\n",
    "\n",
    "print(\"Original array:\")\n",
    "print(array)\n",
    "print(\"Masked array:\")\n",
    "print(masked_array)\n",
    "print(\"Lesser array\")\n",
    "print(less)"
   ]
  },
  {
   "cell_type": "code",
   "execution_count": 39,
   "id": "ca798cb3",
   "metadata": {},
   "outputs": [
    {
     "name": "stdout",
     "output_type": "stream",
     "text": [
      "[1 2 -- 4]\n",
      "7\n"
     ]
    }
   ],
   "source": [
    "import numpy.ma as ma\n",
    "\n",
    "data = np.array([1, 2, -999, 4])\n",
    "masked = ma.masked_equal(data, -999)\n",
    "ans = ma.masked\n",
    "\n",
    "print(masked)         # [1 2 -- 4]\n",
    "print(masked.sum())   # 7 (ignores -999)\n"
   ]
  },
  {
   "cell_type": "code",
   "execution_count": null,
   "id": "32113756",
   "metadata": {},
   "outputs": [
    {
     "name": "stdout",
     "output_type": "stream",
     "text": [
      "Original array:\n",
      "[[18 20 16]\n",
      " [ 8  3 10]\n",
      " [18 19 15]]\n",
      "Masked array:\n",
      "[[-- 20 16]\n",
      " [8 -- 10]\n",
      " [18 19 --]]\n",
      "Modified masked array:\n",
      "[[15 20 16]\n",
      " [ 8 15 10]\n",
      " [18 19 15]]\n"
     ]
    }
   ],
   "source": [
    "# Create a masked array of shape (3, 3) with random integers\n",
    "array = np.random.randint(1, 21, size=(3, 3))\n",
    "masked_array = ma.masked_array(array, mask=np.eye(3))\n",
    "print(\"Original array:\")\n",
    "print(array)\n",
    "print(\"Masked array:\")\n",
    "print(masked_array)\n",
    "\n",
    "# Replace the masked elements with the mean of the unmasked elements\n",
    "mean_unmasked = masked_array.mean()\n",
    "masked_array = masked_array.filled(mean_unmasked)\n",
    "print(\"Modified masked array:\")\n",
    "print(masked_array)"
   ]
  },
  {
   "cell_type": "code",
   "execution_count": 15,
   "id": "20a23ad6",
   "metadata": {},
   "outputs": [
    {
     "name": "stdout",
     "output_type": "stream",
     "text": [
      "Original array:\n",
      "[[ 8 17 13 14 12]\n",
      " [ 2 16 19 10 11]\n",
      " [10 10  2 19  8]\n",
      " [17 15  6  1 17]\n",
      " [ 5 15  5 10 20]]\n",
      "12\n",
      "Corner elements:\n",
      "[ 8 12  5 20]\n"
     ]
    }
   ],
   "source": [
    "# Create a NumPy array of shape (5, 5) filled with random integers\n",
    "array = np.random.randint(1, 21, size=(5, 5))\n",
    "print(\"Original array:\")\n",
    "print(array)\n",
    "\n",
    "# Use fancy indexing to extract the elements at the corners of the array\n",
    "corners = array[[0, 0, -1, -1], [0, -1, 0, -1]]\n",
    "a = array[0,-1]\n",
    "print(a)\n",
    "print(\"Corner elements:\")\n",
    "print(corners)"
   ]
  },
  {
   "cell_type": "code",
   "execution_count": 31,
   "id": "3f989e8c",
   "metadata": {},
   "outputs": [
    {
     "name": "stdout",
     "output_type": "stream",
     "text": [
      "1st arary:\n",
      " [[ 4 15 16]\n",
      " [ 7 23 17]\n",
      " [10  9  5]]\n",
      "2nd array:\n",
      " [[79 67 88]\n",
      " [70 56 47]\n",
      " [52 55 89]]\n",
      "sum:\n",
      " [[ 83  82 104]\n",
      " [ 77  79  64]\n",
      " [ 62  64  94]]\n",
      "corner elements:\n",
      " [ 83 104  94  62]\n",
      "masked array:\n",
      " [[83 82 104]\n",
      " [77 79 --]\n",
      " [-- -- 94]]\n",
      "msk filled:\n",
      " [[ 83  82 104]\n",
      " [ 77  79   0]\n",
      " [  0   0  94]]\n"
     ]
    }
   ],
   "source": [
    "import numpy as np\n",
    "import random \n",
    "import numpy.ma as ma\n",
    "np.random.seed(5)\n",
    "a = np.random.randint(1,30,size=(3,3))\n",
    "b = np.random.randint(40,90, size=(3,3))\n",
    "print(\"1st arary:\\n\",a)\n",
    "print(\"2nd array:\\n\",b)\n",
    "corners = sum[[0,0,-1,-1],[0,-1,-1,0]]\n",
    "msk_arr = ma.masked_where(sum < 70, sum)\n",
    "msk_filled = ma.filled(msk_arr, 0)\n",
    "sum = a + b\n",
    "print(\"sum:\\n\",sum)\n",
    "print(\"corner elements:\\n\",corners)\n",
    "print(\"masked array:\\n\",msk_arr)\n",
    "print(\"msk filled:\\n\",msk_filled)"
   ]
  },
  {
   "cell_type": "code",
   "execution_count": null,
   "id": "180d7512",
   "metadata": {},
   "outputs": [],
   "source": []
  },
  {
   "cell_type": "code",
   "execution_count": null,
   "id": "1429fdf4",
   "metadata": {},
   "outputs": [],
   "source": []
  }
 ],
 "metadata": {
  "kernelspec": {
   "display_name": "Python 3",
   "language": "python",
   "name": "python3"
  },
  "language_info": {
   "codemirror_mode": {
    "name": "ipython",
    "version": 3
   },
   "file_extension": ".py",
   "mimetype": "text/x-python",
   "name": "python",
   "nbconvert_exporter": "python",
   "pygments_lexer": "ipython3",
   "version": "3.12.0"
  }
 },
 "nbformat": 4,
 "nbformat_minor": 5
}
