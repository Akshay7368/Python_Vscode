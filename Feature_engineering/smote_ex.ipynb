{
 "cells": [
  {
   "cell_type": "code",
   "execution_count": 5,
   "id": "22a004a0",
   "metadata": {},
   "outputs": [
    {
     "name": "stdout",
     "output_type": "stream",
     "text": [
      "Collecting imbalanced-learn\n",
      "  Downloading imbalanced_learn-0.13.0-py3-none-any.whl.metadata (8.8 kB)\n",
      "Requirement already satisfied: numpy<3,>=1.24.3 in c:\\users\\dell\\onedrive\\desktop\\data analyst course\\python\\new folder\\.venv\\lib\\site-packages (from imbalanced-learn) (2.3.1)\n",
      "Collecting scipy<2,>=1.10.1 (from imbalanced-learn)\n",
      "  Downloading scipy-1.16.0-cp313-cp313-win_amd64.whl.metadata (60 kB)\n",
      "Collecting scikit-learn<2,>=1.3.2 (from imbalanced-learn)\n",
      "  Downloading scikit_learn-1.7.0-cp313-cp313-win_amd64.whl.metadata (14 kB)\n",
      "Collecting sklearn-compat<1,>=0.1 (from imbalanced-learn)\n",
      "  Downloading sklearn_compat-0.1.3-py3-none-any.whl.metadata (18 kB)\n",
      "Collecting joblib<2,>=1.1.1 (from imbalanced-learn)\n",
      "  Downloading joblib-1.5.1-py3-none-any.whl.metadata (5.6 kB)\n",
      "Collecting threadpoolctl<4,>=2.0.0 (from imbalanced-learn)\n",
      "  Downloading threadpoolctl-3.6.0-py3-none-any.whl.metadata (13 kB)\n",
      "Collecting scikit-learn<2,>=1.3.2 (from imbalanced-learn)\n",
      "  Downloading scikit_learn-1.6.1-cp313-cp313-win_amd64.whl.metadata (15 kB)\n",
      "Downloading imbalanced_learn-0.13.0-py3-none-any.whl (238 kB)\n",
      "Downloading joblib-1.5.1-py3-none-any.whl (307 kB)\n",
      "Downloading scipy-1.16.0-cp313-cp313-win_amd64.whl (38.4 MB)\n",
      "   ---------------------------------------- 0.0/38.4 MB ? eta -:--:--\n",
      "    --------------------------------------- 0.8/38.4 MB 7.3 MB/s eta 0:00:06\n",
      "   - -------------------------------------- 1.6/38.4 MB 4.1 MB/s eta 0:00:09\n",
      "   -- ------------------------------------- 2.1/38.4 MB 3.5 MB/s eta 0:00:11\n",
      "   -- ------------------------------------- 2.6/38.4 MB 2.9 MB/s eta 0:00:13\n",
      "   --- ------------------------------------ 3.1/38.4 MB 2.8 MB/s eta 0:00:13\n",
      "   ---- ----------------------------------- 4.2/38.4 MB 3.2 MB/s eta 0:00:11\n",
      "   ----- ---------------------------------- 5.2/38.4 MB 3.4 MB/s eta 0:00:10\n",
      "   ------ --------------------------------- 5.8/38.4 MB 3.4 MB/s eta 0:00:10\n",
      "   ------ --------------------------------- 6.6/38.4 MB 3.4 MB/s eta 0:00:10\n",
      "   ------- -------------------------------- 7.6/38.4 MB 3.5 MB/s eta 0:00:09\n",
      "   -------- ------------------------------- 8.4/38.4 MB 3.5 MB/s eta 0:00:09\n",
      "   --------- ------------------------------ 9.2/38.4 MB 3.6 MB/s eta 0:00:09\n",
      "   ---------- ----------------------------- 10.0/38.4 MB 3.6 MB/s eta 0:00:08\n",
      "   ----------- ---------------------------- 10.7/38.4 MB 3.6 MB/s eta 0:00:08\n",
      "   ------------ --------------------------- 11.5/38.4 MB 3.6 MB/s eta 0:00:08\n",
      "   ------------- -------------------------- 12.6/38.4 MB 3.6 MB/s eta 0:00:08\n",
      "   ------------- -------------------------- 13.1/38.4 MB 3.6 MB/s eta 0:00:08\n",
      "   ------------- -------------------------- 13.4/38.4 MB 3.5 MB/s eta 0:00:08\n",
      "   -------------- ------------------------- 13.9/38.4 MB 3.4 MB/s eta 0:00:08\n",
      "   --------------- ------------------------ 14.4/38.4 MB 3.4 MB/s eta 0:00:08\n",
      "   --------------- ------------------------ 14.7/38.4 MB 3.3 MB/s eta 0:00:08\n",
      "   ---------------- ----------------------- 15.5/38.4 MB 3.3 MB/s eta 0:00:07\n",
      "   ---------------- ----------------------- 16.3/38.4 MB 3.3 MB/s eta 0:00:07\n",
      "   ----------------- ---------------------- 17.0/38.4 MB 3.3 MB/s eta 0:00:07\n",
      "   ------------------ --------------------- 17.8/38.4 MB 3.3 MB/s eta 0:00:07\n",
      "   ------------------- -------------------- 18.6/38.4 MB 3.4 MB/s eta 0:00:06\n",
      "   -------------------- ------------------- 19.4/38.4 MB 3.4 MB/s eta 0:00:06\n",
      "   --------------------- ------------------ 20.2/38.4 MB 3.4 MB/s eta 0:00:06\n",
      "   --------------------- ------------------ 21.0/38.4 MB 3.4 MB/s eta 0:00:06\n",
      "   ---------------------- ----------------- 21.8/38.4 MB 3.4 MB/s eta 0:00:05\n",
      "   ----------------------- ---------------- 22.5/38.4 MB 3.4 MB/s eta 0:00:05\n",
      "   ------------------------ --------------- 23.6/38.4 MB 3.4 MB/s eta 0:00:05\n",
      "   ------------------------- -------------- 24.4/38.4 MB 3.5 MB/s eta 0:00:05\n",
      "   -------------------------- ------------- 25.2/38.4 MB 3.5 MB/s eta 0:00:04\n",
      "   --------------------------- ------------ 26.0/38.4 MB 3.5 MB/s eta 0:00:04\n",
      "   --------------------------- ------------ 26.7/38.4 MB 3.5 MB/s eta 0:00:04\n",
      "   ---------------------------- ----------- 27.5/38.4 MB 3.5 MB/s eta 0:00:04\n",
      "   ----------------------------- ---------- 28.3/38.4 MB 3.5 MB/s eta 0:00:03\n",
      "   ------------------------------ --------- 29.1/38.4 MB 3.5 MB/s eta 0:00:03\n",
      "   ------------------------------- -------- 29.9/38.4 MB 3.5 MB/s eta 0:00:03\n",
      "   -------------------------------- ------- 30.9/38.4 MB 3.5 MB/s eta 0:00:03\n",
      "   --------------------------------- ------ 31.7/38.4 MB 3.5 MB/s eta 0:00:02\n",
      "   --------------------------------- ------ 32.5/38.4 MB 3.6 MB/s eta 0:00:02\n",
      "   ---------------------------------- ----- 33.3/38.4 MB 3.6 MB/s eta 0:00:02\n",
      "   ----------------------------------- ---- 34.1/38.4 MB 3.6 MB/s eta 0:00:02\n",
      "   ------------------------------------ --- 34.6/38.4 MB 3.6 MB/s eta 0:00:02\n",
      "   ------------------------------------ --- 35.4/38.4 MB 3.5 MB/s eta 0:00:01\n",
      "   ------------------------------------- -- 35.9/38.4 MB 3.5 MB/s eta 0:00:01\n",
      "   -------------------------------------- - 36.7/38.4 MB 3.5 MB/s eta 0:00:01\n",
      "   -------------------------------------- - 37.2/38.4 MB 3.5 MB/s eta 0:00:01\n",
      "   ---------------------------------------  38.0/38.4 MB 3.5 MB/s eta 0:00:01\n",
      "   ---------------------------------------  38.3/38.4 MB 3.5 MB/s eta 0:00:01\n",
      "   ---------------------------------------- 38.4/38.4 MB 3.4 MB/s eta 0:00:00\n",
      "Downloading sklearn_compat-0.1.3-py3-none-any.whl (18 kB)\n",
      "Downloading scikit_learn-1.6.1-cp313-cp313-win_amd64.whl (11.1 MB)\n",
      "   ---------------------------------------- 0.0/11.1 MB ? eta -:--:--\n",
      "   --- ------------------------------------ 1.0/11.1 MB 4.5 MB/s eta 0:00:03\n",
      "   ----- ---------------------------------- 1.6/11.1 MB 4.2 MB/s eta 0:00:03\n",
      "   -------- ------------------------------- 2.4/11.1 MB 4.0 MB/s eta 0:00:03\n",
      "   ------------ --------------------------- 3.4/11.1 MB 4.0 MB/s eta 0:00:02\n",
      "   --------------- ------------------------ 4.2/11.1 MB 3.9 MB/s eta 0:00:02\n",
      "   ----------------- ---------------------- 5.0/11.1 MB 3.9 MB/s eta 0:00:02\n",
      "   -------------------- ------------------- 5.8/11.1 MB 3.9 MB/s eta 0:00:02\n",
      "   ----------------------- ---------------- 6.6/11.1 MB 3.9 MB/s eta 0:00:02\n",
      "   -------------------------- ------------- 7.3/11.1 MB 3.9 MB/s eta 0:00:01\n",
      "   ----------------------------- ---------- 8.1/11.1 MB 3.9 MB/s eta 0:00:01\n",
      "   ------------------------------- -------- 8.7/11.1 MB 3.7 MB/s eta 0:00:01\n",
      "   ----------------------------------- ---- 10.0/11.1 MB 3.9 MB/s eta 0:00:01\n",
      "   ------------------------------------- -- 10.5/11.1 MB 3.9 MB/s eta 0:00:01\n",
      "   ---------------------------------------- 11.1/11.1 MB 3.8 MB/s eta 0:00:00\n",
      "Downloading threadpoolctl-3.6.0-py3-none-any.whl (18 kB)\n",
      "Installing collected packages: threadpoolctl, scipy, joblib, scikit-learn, sklearn-compat, imbalanced-learn\n",
      "Successfully installed imbalanced-learn-0.13.0 joblib-1.5.1 scikit-learn-1.6.1 scipy-1.16.0 sklearn-compat-0.1.3 threadpoolctl-3.6.0\n",
      "Note: you may need to restart the kernel to use updated packages.\n"
     ]
    },
    {
     "name": "stderr",
     "output_type": "stream",
     "text": [
      "\n",
      "[notice] A new release of pip is available: 25.0.1 -> 25.1.1\n",
      "[notice] To update, run: python.exe -m pip install --upgrade pip\n"
     ]
    }
   ],
   "source": [
    "!pip install imbalanced-learn\n"
   ]
  },
  {
   "cell_type": "markdown",
   "id": "c65a90ce",
   "metadata": {},
   "source": [
    "SMOTE"
   ]
  },
  {
   "cell_type": "code",
   "execution_count": 37,
   "id": "4eb65fad",
   "metadata": {},
   "outputs": [],
   "source": [
    "from sklearn.datasets import make_classification"
   ]
  },
  {
   "cell_type": "code",
   "execution_count": 9,
   "id": "75c33785",
   "metadata": {},
   "outputs": [],
   "source": [
    "x,y = make_classification(n_samples=1000,n_features=2,n_clusters_per_class=1,\n",
    "                    weights=[0.90], random_state=14, n_redundant=0)"
   ]
  },
  {
   "cell_type": "code",
   "execution_count": 28,
   "id": "0d30b0e3",
   "metadata": {},
   "outputs": [
    {
     "data": {
      "text/html": [
       "<div>\n",
       "<style scoped>\n",
       "    .dataframe tbody tr th:only-of-type {\n",
       "        vertical-align: middle;\n",
       "    }\n",
       "\n",
       "    .dataframe tbody tr th {\n",
       "        vertical-align: top;\n",
       "    }\n",
       "\n",
       "    .dataframe thead th {\n",
       "        text-align: right;\n",
       "    }\n",
       "</style>\n",
       "<table border=\"1\" class=\"dataframe\">\n",
       "  <thead>\n",
       "    <tr style=\"text-align: right;\">\n",
       "      <th></th>\n",
       "      <th>f1</th>\n",
       "      <th>f2</th>\n",
       "      <th>target</th>\n",
       "    </tr>\n",
       "  </thead>\n",
       "  <tbody>\n",
       "    <tr>\n",
       "      <th>0</th>\n",
       "      <td>-1.562821</td>\n",
       "      <td>0.885500</td>\n",
       "      <td>0</td>\n",
       "    </tr>\n",
       "    <tr>\n",
       "      <th>1</th>\n",
       "      <td>-0.675617</td>\n",
       "      <td>1.276639</td>\n",
       "      <td>0</td>\n",
       "    </tr>\n",
       "    <tr>\n",
       "      <th>2</th>\n",
       "      <td>2.812998</td>\n",
       "      <td>0.215672</td>\n",
       "      <td>1</td>\n",
       "    </tr>\n",
       "    <tr>\n",
       "      <th>3</th>\n",
       "      <td>-0.999362</td>\n",
       "      <td>1.061059</td>\n",
       "      <td>0</td>\n",
       "    </tr>\n",
       "    <tr>\n",
       "      <th>4</th>\n",
       "      <td>-1.654020</td>\n",
       "      <td>0.797742</td>\n",
       "      <td>0</td>\n",
       "    </tr>\n",
       "  </tbody>\n",
       "</table>\n",
       "</div>"
      ],
      "text/plain": [
       "         f1        f2  target\n",
       "0 -1.562821  0.885500       0\n",
       "1 -0.675617  1.276639       0\n",
       "2  2.812998  0.215672       1\n",
       "3 -0.999362  1.061059       0\n",
       "4 -1.654020  0.797742       0"
      ]
     },
     "execution_count": 28,
     "metadata": {},
     "output_type": "execute_result"
    }
   ],
   "source": [
    "import pandas as pd\n",
    "df1 = pd.DataFrame(x,columns=['f1','f2'])\n",
    "df2 = pd.DataFrame(y,columns=['target'])\n",
    "final = pd.concat([df1,df2], axis=1)\n",
    "final.head()"
   ]
  },
  {
   "cell_type": "code",
   "execution_count": 24,
   "id": "f54f7ecd",
   "metadata": {},
   "outputs": [
    {
     "data": {
      "text/plain": [
       "target\n",
       "0    900\n",
       "1    100\n",
       "Name: count, dtype: int64"
      ]
     },
     "execution_count": 24,
     "metadata": {},
     "output_type": "execute_result"
    }
   ],
   "source": [
    "final['target'].value_counts()"
   ]
  },
  {
   "cell_type": "code",
   "execution_count": 29,
   "id": "9b8124ee",
   "metadata": {},
   "outputs": [],
   "source": [
    "import matplotlib.pyplot as plt"
   ]
  },
  {
   "cell_type": "code",
   "execution_count": 36,
   "id": "a65c56a5",
   "metadata": {},
   "outputs": [
    {
     "data": {
      "text/plain": [
       "<matplotlib.collections.PathCollection at 0x21f531aa710>"
      ]
     },
     "execution_count": 36,
     "metadata": {},
     "output_type": "execute_result"
    },
    {
     "data": {
      "image/png": "[encoded data removed]",
      "text/plain": [
       "<Figure size 640x480 with 1 Axes>"
      ]
     },
     "metadata": {},
     "output_type": "display_data"
    }
   ],
   "source": [
    "plt.scatter(final['f1'],final['f2'],c=final['target'])"
   ]
  },
  {
   "cell_type": "code",
   "execution_count": 38,
   "id": "5b949fb2",
   "metadata": {},
   "outputs": [
    {
     "name": "stdout",
     "output_type": "stream",
     "text": [
      "Collecting imblearn\n",
      "  Downloading imblearn-0.0-py2.py3-none-any.whl.metadata (355 bytes)\n",
      "Requirement already satisfied: imbalanced-learn in c:\\users\\dell\\onedrive\\desktop\\data analyst course\\python\\new folder\\.venv\\lib\\site-packages (from imblearn) (0.13.0)\n",
      "Requirement already satisfied: numpy<3,>=1.24.3 in c:\\users\\dell\\onedrive\\desktop\\data analyst course\\python\\new folder\\.venv\\lib\\site-packages (from imbalanced-learn->imblearn) (2.3.1)\n",
      "Requirement already satisfied: scipy<2,>=1.10.1 in c:\\users\\dell\\onedrive\\desktop\\data analyst course\\python\\new folder\\.venv\\lib\\site-packages (from imbalanced-learn->imblearn) (1.16.0)\n",
      "Requirement already satisfied: scikit-learn<2,>=1.3.2 in c:\\users\\dell\\onedrive\\desktop\\data analyst course\\python\\new folder\\.venv\\lib\\site-packages (from imbalanced-learn->imblearn) (1.6.1)\n",
      "Requirement already satisfied: sklearn-compat<1,>=0.1 in c:\\users\\dell\\onedrive\\desktop\\data analyst course\\python\\new folder\\.venv\\lib\\site-packages (from imbalanced-learn->imblearn) (0.1.3)\n",
      "Requirement already satisfied: joblib<2,>=1.1.1 in c:\\users\\dell\\onedrive\\desktop\\data analyst course\\python\\new folder\\.venv\\lib\\site-packages (from imbalanced-learn->imblearn) (1.5.1)\n",
      "Requirement already satisfied: threadpoolctl<4,>=2.0.0 in c:\\users\\dell\\onedrive\\desktop\\data analyst course\\python\\new folder\\.venv\\lib\\site-packages (from imbalanced-learn->imblearn) (3.6.0)\n",
      "Downloading imblearn-0.0-py2.py3-none-any.whl (1.9 kB)\n",
      "Installing collected packages: imblearn\n",
      "Successfully installed imblearn-0.0\n"
     ]
    },
    {
     "name": "stderr",
     "output_type": "stream",
     "text": [
      "\n",
      "[notice] A new release of pip is available: 25.0.1 -> 25.1.1\n",
      "[notice] To update, run: python.exe -m pip install --upgrade pip\n"
     ]
    }
   ],
   "source": [
    "!pip install imblearn"
   ]
  },
  {
   "cell_type": "code",
   "execution_count": 39,
   "id": "8619ef9c",
   "metadata": {},
   "outputs": [],
   "source": [
    "from imblearn.over_sampling import SMOTE\n"
   ]
  },
  {
   "cell_type": "code",
   "execution_count": null,
   "id": "f84ee331",
   "metadata": {},
   "outputs": [],
   "source": [
    "oversample = SMOTE()\n",
    "x,y = oversample.fit_resample(final)"
   ]
  },
  {
   "cell_type": "code",
   "execution_count": null,
   "id": "d43488c7",
   "metadata": {},
   "outputs": [],
   "source": []
  }
 ],
 "metadata": {
  "kernelspec": {
   "display_name": ".venv",
   "language": "python",
   "name": "python3"
  },
  "language_info": {
   "codemirror_mode": {
    "name": "ipython",
    "version": 3
   },
   "file_extension": ".py",
   "mimetype": "text/x-python",
   "name": "python",
   "nbconvert_exporter": "python",
   "pygments_lexer": "ipython3",
   "version": "3.13.3"
  }
 },
 "nbformat": 4,
 "nbformat_minor": 5
}
