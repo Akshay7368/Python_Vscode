{
 "cells": [
  {
   "cell_type": "code",
   "execution_count": 3,
   "id": "2a28c1d4",
   "metadata": {},
   "outputs": [
    {
     "name": "stdout",
     "output_type": "stream",
     "text": [
      "Hello how are you?\n",
      "Hi i am AKshay\n",
      "Data Analyst\n"
     ]
    }
   ],
   "source": [
    "with open('examples.txt',mode='r') as file:\n",
    "    content = file.read()\n",
    "    print(content)"
   ]
  },
  {
   "cell_type": "code",
   "execution_count": null,
   "id": "a223f12a",
   "metadata": {},
   "outputs": [
    {
     "name": "stdout",
     "output_type": "stream",
     "text": [
      "Hello how are you?\n",
      "Hi i am AKshay\n",
      "Data Analyst\n"
     ]
    }
   ],
   "source": [
    "with open('examples.txt',mode='r') as file:\n",
    "    for line in file:\n",
    "        print(line.strip()) ##strip removes the new line character"
   ]
  },
  {
   "cell_type": "code",
   "execution_count": 1,
   "id": "964719c3",
   "metadata": {},
   "outputs": [],
   "source": [
    "## writting a file\n",
    "with open('examples.txt',mode='w') as file:\n",
    "    file.write(\"Hello\\n\")\n"
   ]
  },
  {
   "cell_type": "code",
   "execution_count": null,
   "id": "3dbf87fa",
   "metadata": {},
   "outputs": [],
   "source": [
    "#write a file without overwritting\n",
    "\n",
    "with open('examples.txt',mode='a') as file:\n",
    "    file.write(\"how are you?\\n\")"
   ]
  },
  {
   "cell_type": "code",
   "execution_count": 8,
   "id": "9eccca85",
   "metadata": {},
   "outputs": [],
   "source": [
    "## Working with Binary files\n",
    "data = bytes([72, 101, 108, 108, 111])\n",
    "with open('examples.bin', mode='wb') as file:\n",
    "    file.write(data)\n"
   ]
  },
  {
   "cell_type": "code",
   "execution_count": 3,
   "id": "8c1fa353",
   "metadata": {},
   "outputs": [
    {
     "name": "stdout",
     "output_type": "stream",
     "text": [
      "c:\\Users\\DELL\\OneDrive\\Desktop\\Data Analyst course\\Python\\New folder\\File handling\n"
     ]
    }
   ],
   "source": [
    "import os\n",
    "print(os.getcwd())"
   ]
  },
  {
   "cell_type": "code",
   "execution_count": 10,
   "id": "2c82fc38",
   "metadata": {},
   "outputs": [
    {
     "name": "stdout",
     "output_type": "stream",
     "text": [
      "['examples.bin', 'examples.txt', 'fileoperations.ipynb']\n"
     ]
    }
   ],
   "source": [
    "print(os.listdir())  # Lists items in current folder\n"
   ]
  },
  {
   "cell_type": "code",
   "execution_count": 11,
   "id": "c932eead",
   "metadata": {},
   "outputs": [],
   "source": [
    "os.mkdir(\"my_folder\")  # Create one folder\n"
   ]
  },
  {
   "cell_type": "code",
   "execution_count": 12,
   "id": "295ad168",
   "metadata": {},
   "outputs": [],
   "source": [
    "os.rmdir(\"my_folder\")  # Only works if folder is empty\n"
   ]
  },
  {
   "cell_type": "code",
   "execution_count": 15,
   "id": "546bb9a4",
   "metadata": {},
   "outputs": [
    {
     "name": "stdout",
     "output_type": "stream",
     "text": [
      "True\n",
      "False\n",
      "False\n"
     ]
    }
   ],
   "source": [
    "print(os.path.exists(\"examples.bin\"))       # True or False\n",
    "print(os.path.isfile(\"data.txt\"))       # True if file\n",
    "print(os.path.isdir(\"my_folder\"))       # True if folder\n"
   ]
  },
  {
   "cell_type": "code",
   "execution_count": 4,
   "id": "cd9c7e90",
   "metadata": {},
   "outputs": [
    {
     "data": {
      "text/plain": [
       "0"
      ]
     },
     "execution_count": 4,
     "metadata": {},
     "output_type": "execute_result"
    }
   ],
   "source": [
    "os.system(\"dir\")        # On Windows: lists files\n",
    "os.system(\"mkdir test\") # Creates a folder named 'test'\n"
   ]
  },
  {
   "cell_type": "code",
   "execution_count": null,
   "id": "7bcd4c05",
   "metadata": {},
   "outputs": [],
   "source": []
  }
 ],
 "metadata": {
  "kernelspec": {
   "display_name": "Python 3",
   "language": "python",
   "name": "python3"
  },
  "language_info": {
   "codemirror_mode": {
    "name": "ipython",
    "version": 3
   },
   "file_extension": ".py",
   "mimetype": "text/x-python",
   "name": "python",
   "nbconvert_exporter": "python",
   "pygments_lexer": "ipython3",
   "version": "3.12.0"
  }
 },
 "nbformat": 4,
 "nbformat_minor": 5
}
