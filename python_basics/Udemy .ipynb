{
 "cells": [
  {
   "cell_type": "code",
   "execution_count": 2,
   "id": "902fb7d9",
   "metadata": {},
   "outputs": [
    {
     "name": "stdout",
     "output_type": "stream",
     "text": [
      "Hai\n",
      "bye\n"
     ]
    }
   ],
   "source": [
    "a= 2\n",
    "b= 3\n",
    "if (a<b):\n",
    "    print(\"Hai\")\n",
    "print(\"bye\")"
   ]
  },
  {
   "cell_type": "code",
   "execution_count": 11,
   "id": "598a97e8",
   "metadata": {},
   "outputs": [
    {
     "data": {
      "text/plain": [
       "False"
      ]
     },
     "execution_count": 11,
     "metadata": {},
     "output_type": "execute_result"
    }
   ],
   "source": [
    "name = \"Akshay\"\n",
    "Name = \"kumar\"\n",
    "name == Name "
   ]
  },
  {
   "cell_type": "code",
   "execution_count": 16,
   "id": "9ae911c2",
   "metadata": {},
   "outputs": [
    {
     "data": {
      "text/plain": [
       "str"
      ]
     },
     "execution_count": 16,
     "metadata": {},
     "output_type": "execute_result"
    }
   ],
   "source": [
    "age = \"33\"\n",
    "name = \"Akshay\"\n",
    "type(str(age))\n"
   ]
  },
  {
   "cell_type": "code",
   "execution_count": 18,
   "id": "4555e6b6",
   "metadata": {},
   "outputs": [
    {
     "name": "stdout",
     "output_type": "stream",
     "text": [
      "<class 'int'>\n"
     ]
    }
   ],
   "source": [
    "age = int(input(\"what s my age\"))\n",
    "print(type(age))"
   ]
  },
  {
   "cell_type": "code",
   "execution_count": 21,
   "id": "e42f5cad",
   "metadata": {},
   "outputs": [
    {
     "name": "stdout",
     "output_type": "stream",
     "text": [
      "21\n",
      "20\n"
     ]
    }
   ],
   "source": [
    "num_1 = int(input(\"Enter the number\"))\n",
    "num_2 = int(input(\"Enter the number\"))\n",
    "\n",
    "add = num_1 + num_2\n",
    "sub = num_2 + num_2\n",
    "\n",
    "print(add)\n",
    "print(sub)\n"
   ]
  },
  {
   "cell_type": "code",
   "execution_count": 1,
   "id": "25381fc8",
   "metadata": {},
   "outputs": [],
   "source": [
    "##Functions in Python\n",
    "#syntax\n",
    "\n",
    "def function_name(Parameter):\n",
    "    \"\"\"Docstring\"\"\"\n",
    "    #Function body\n",
    "    return expression\n"
   ]
  },
  {
   "cell_type": "code",
   "execution_count": 5,
   "id": "983464d6",
   "metadata": {},
   "outputs": [
    {
     "name": "stdout",
     "output_type": "stream",
     "text": [
      "Number is odd\n"
     ]
    }
   ],
   "source": [
    "def even_or_odd(num):\n",
    "    if num % 2 == 0:\n",
    "        print(\"Number is even\")\n",
    "    else:\n",
    "        print(\"Number is odd\")\n",
    "even_or_odd(25)"
   ]
  },
  {
   "cell_type": "code",
   "execution_count": 19,
   "id": "c95ea92f",
   "metadata": {},
   "outputs": [
    {
     "name": "stdout",
     "output_type": "stream",
     "text": [
      "A \n",
      "B C \n",
      "D E F \n",
      "G H I J \n",
      "K L M N O \n"
     ]
    }
   ],
   "source": [
    "row = 5\n",
    "Asc = 65\n",
    "for i in range(row):\n",
    "    for j in range(i + 1):\n",
    "        new = chr(Asc)\n",
    "        print(new, end=\" \")\n",
    "        Asc += 1\n",
    "    print()"
   ]
  },
  {
   "cell_type": "code",
   "execution_count": 17,
   "id": "631a2cc3",
   "metadata": {},
   "outputs": [
    {
     "name": "stdout",
     "output_type": "stream",
     "text": [
      "        * \n",
      "      * * * \n",
      "    * * * * * \n",
      "  * * * * * * * \n",
      "* * * * * * * * * \n"
     ]
    }
   ],
   "source": [
    "row = 5\n",
    "for i in range(1, row + 1):\n",
    "    for space in range(row - i):\n",
    "        print(\" \", end=\" \")\n",
    "    for star in range(2 * i - 1):\n",
    "        print(\"*\", end=\" \")\n",
    "    print()"
   ]
  },
  {
   "cell_type": "code",
   "execution_count": 28,
   "id": "b2425106",
   "metadata": {},
   "outputs": [
    {
     "name": "stdout",
     "output_type": "stream",
     "text": [
      "* * * * * * * * * \n",
      "  * * * * * * * \n",
      "    * * * * * \n",
      "      * * * \n",
      "        * \n"
     ]
    }
   ],
   "source": [
    "row = 5\n",
    "for i in range(row):\n",
    "    for space in range(i):\n",
    "        print(\" \",end=\" \")\n",
    "    for star in range(2 * (row - i)- 1):\n",
    "        print(\"*\", end=\" \")\n",
    "    print()\n",
    "    \n",
    "    "
   ]
  },
  {
   "cell_type": "code",
   "execution_count": 29,
   "id": "16cff52c",
   "metadata": {},
   "outputs": [
    {
     "name": "stdout",
     "output_type": "stream",
     "text": [
      "Hi Akshay\n"
     ]
    }
   ],
   "source": [
    "def greet(name):\n",
    "    print(\"Hi\", name)\n",
    "greet(\"Akshay\")"
   ]
  },
  {
   "cell_type": "code",
   "execution_count": 7,
   "id": "e739669e",
   "metadata": {},
   "outputs": [
    {
     "name": "stdout",
     "output_type": "stream",
     "text": [
      "1\n",
      "2\n",
      "3\n",
      "4\n",
      "5\n",
      "6\n",
      "Akshay\n"
     ]
    }
   ],
   "source": [
    "###positional arguments (*)\n",
    "def result(*Akshay):\n",
    "    for i in Akshay:\n",
    "        print(i)\n",
    "result(1,2,3,4,5,6,\"Akshay\")\n",
    "     "
   ]
  },
  {
   "cell_type": "code",
   "execution_count": 38,
   "id": "b7367954",
   "metadata": {},
   "outputs": [
    {
     "name": "stdout",
     "output_type": "stream",
     "text": [
      "name: akshay\n",
      "age: 23\n"
     ]
    }
   ],
   "source": [
    "##Keyword arguments\n",
    "\n",
    "def results(**Kwargs):\n",
    "    for key, values in Kwargs.items():\n",
    "        print(f\"{key}: {values}\")\n",
    "results(name= \"akshay\", age = \"23\")\n",
    "    \n",
    "    \n"
   ]
  },
  {
   "cell_type": "code",
   "execution_count": 3,
   "id": "3157e17a",
   "metadata": {},
   "outputs": [
    {
     "name": "stdout",
     "output_type": "stream",
     "text": [
      "8\n"
     ]
    }
   ],
   "source": [
    "def multiply(a, b):\n",
    "    return a * b\n",
    "ans = multiply(b = 2, a = 4)\n",
    "print(ans)\n"
   ]
  },
  {
   "cell_type": "code",
   "execution_count": 5,
   "id": "010eae7a",
   "metadata": {},
   "outputs": [
    {
     "name": "stdout",
     "output_type": "stream",
     "text": [
      "16\n"
     ]
    }
   ],
   "source": [
    "def multiply(a, b):\n",
    "    print(a * b)\n",
    "ans = multiply(2,8)\n"
   ]
  },
  {
   "cell_type": "code",
   "execution_count": null,
   "id": "bb981777",
   "metadata": {},
   "outputs": [
    {
     "name": "stdout",
     "output_type": "stream",
     "text": [
      "1\n",
      "[2, 3, 4, 5, 6, 7, 8]\n",
      "9\n"
     ]
    }
   ],
   "source": [
    "a = [1,2,3,4,5,6,7,8,9]\n",
    "first_num,*second_num,last_num = a\n",
    "\n",
    "print(first_num)\n",
    "print(second_num)\n",
    "print(last_num)\n"
   ]
  },
  {
   "cell_type": "code",
   "execution_count": null,
   "id": "be5a89ed",
   "metadata": {},
   "outputs": [
    {
     "data": {
      "text/plain": [
       "120"
      ]
     },
     "execution_count": 9,
     "metadata": {},
     "output_type": "execute_result"
    }
   ],
   "source": [
    "#recursive call.....calling a function itself\n",
    "def fact(x):\n",
    "    if x == 1:\n",
    "        return 1\n",
    "    else:\n",
    "        return x * fact(x-1)\n",
    "fact(5)"
   ]
  },
  {
   "cell_type": "code",
   "execution_count": 10,
   "id": "27843236",
   "metadata": {},
   "outputs": [
    {
     "name": "stdout",
     "output_type": "stream",
     "text": [
      "Name: Akshay\n",
      "Marks: (90, 85, 95)\n",
      "Extra Info: {'age': 21, 'grade': 'A'}\n"
     ]
    }
   ],
   "source": [
    "def student_report(name, *marks, **details):\n",
    "    print(\"Name:\", name)\n",
    "    print(\"Marks:\", marks)\n",
    "    print(\"Extra Info:\", details)\n",
    "\n",
    "student_report(\"Akshay\", 90, 85, 95, age=21, grade=\"A\")\n"
   ]
  },
  {
   "cell_type": "code",
   "execution_count": 12,
   "id": "a1dd051f",
   "metadata": {},
   "outputs": [
    {
     "name": "stdout",
     "output_type": "stream",
     "text": [
      "Requirement already satisfied: numpy in c:\\users\\dell\\onedrive\\desktop\\data analyst course\\python\\new folder\\venv\\lib\\site-packages (2.3.1)\n"
     ]
    }
   ],
   "source": [
    "!pip install numpy"
   ]
  },
  {
   "cell_type": "code",
   "execution_count": 16,
   "id": "0eff9a42",
   "metadata": {},
   "outputs": [
    {
     "name": "stdout",
     "output_type": "stream",
     "text": [
      "[6, 7, 8, 9, 10]\n"
     ]
    }
   ],
   "source": [
    "lst = [1,2,3,4,5,6,7,8,9,10]\n",
    "data = []\n",
    "for i in lst:\n",
    "    if i > 5:\n",
    "        data.append(i)\n",
    "print(data)"
   ]
  },
  {
   "cell_type": "code",
   "execution_count": 24,
   "id": "0681b5d9",
   "metadata": {},
   "outputs": [
    {
     "data": {
      "text/plain": [
       "8.0"
      ]
     },
     "execution_count": 24,
     "metadata": {},
     "output_type": "execute_result"
    }
   ],
   "source": [
    "import math\n",
    "math.sqrt(int(64))"
   ]
  },
  {
   "cell_type": "code",
   "execution_count": 5,
   "id": "f86e7067",
   "metadata": {},
   "outputs": [
    {
     "name": "stdout",
     "output_type": "stream",
     "text": [
      "1 \n",
      "1 2 \n",
      "1 2 3 \n",
      "1 2 3 4 \n",
      "1 2 3 4 5 \n"
     ]
    }
   ],
   "source": [
    "row = 5\n",
    "for i in range(1, row+1):\n",
    "    for j in range(1, i+1):\n",
    "        print(j, end=' ')\n",
    "    print()\n",
    "    "
   ]
  },
  {
   "cell_type": "code",
   "execution_count": 18,
   "id": "a1be6220",
   "metadata": {},
   "outputs": [
    {
     "name": "stdout",
     "output_type": "stream",
     "text": [
      "        A \n",
      "      B C D \n",
      "    E F G H I \n",
      "  J K L M N O P \n",
      "Q R S T U V W X Y \n"
     ]
    }
   ],
   "source": [
    "row = 5\n",
    "asc = 65\n",
    "for i in range(1, row+1):\n",
    "    for space in range(row-i):\n",
    "        print(\" \", end=\" \")\n",
    "    for k in range((2 * i )- 1):\n",
    "        new = chr(asc)\n",
    "        asc+= 1\n",
    "        print(new, end=' ')\n",
    "    print()"
   ]
  },
  {
   "cell_type": "code",
   "execution_count": null,
   "id": "1e5fc1df",
   "metadata": {},
   "outputs": [],
   "source": []
  }
 ],
 "metadata": {
  "kernelspec": {
   "display_name": "Python 3",
   "language": "python",
   "name": "python3"
  },
  "language_info": {
   "codemirror_mode": {
    "name": "ipython",
    "version": 3
   },
   "file_extension": ".py",
   "mimetype": "text/x-python",
   "name": "python",
   "nbconvert_exporter": "python",
   "pygments_lexer": "ipython3",
   "version": "3.12.0"
  }
 },
 "nbformat": 4,
 "nbformat_minor": 5
}
