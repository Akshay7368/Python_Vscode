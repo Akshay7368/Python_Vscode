{
 "cells": [
  {
   "cell_type": "code",
   "execution_count": 3,
   "id": "4035fde0",
   "metadata": {},
   "outputs": [
    {
     "data": {
      "text/plain": [
       "2"
      ]
     },
     "execution_count": 3,
     "metadata": {},
     "output_type": "execute_result"
    }
   ],
   "source": [
    "1+1\n"
   ]
  },
  {
   "cell_type": "code",
   "execution_count": 1,
   "id": "3a945ba2",
   "metadata": {},
   "outputs": [
    {
     "name": "stdout",
     "output_type": "stream",
     "text": [
      "younger\n"
     ]
    }
   ],
   "source": [
    "age = 30\n",
    "if(age < 20):\n",
    "    print(\"adult\")\n",
    "elif(age > 20):\n",
    "    print(\"younger\")\n",
    "else:\n",
    "    print(\"nothing\")\n",
    "    "
   ]
  },
  {
   "cell_type": "code",
   "execution_count": 4,
   "id": "a3a66675",
   "metadata": {},
   "outputs": [
    {
     "name": "stdout",
     "output_type": "stream",
     "text": [
      "Leap year\n"
     ]
    }
   ],
   "source": [
    "year = int(input(\"Enter the year\"))\n",
    "if(year%4==0 or year%100==0 and year%400 == 0):\n",
    "    print(\"Leap year\")\n",
    "else:\n",
    "    print(\"Not a leap year\")"
   ]
  },
  {
   "cell_type": "code",
   "execution_count": null,
   "id": "5a5ed2bd",
   "metadata": {},
   "outputs": [
    {
     "name": "stdout",
     "output_type": "stream",
     "text": [
      "10\n",
      "9\n",
      "8\n",
      "7\n",
      "6\n",
      "5\n",
      "4\n",
      "3\n",
      "2\n"
     ]
    }
   ],
   "source": [
    "for i in range(10, 1, -1):\n",
    "    print(i)"
   ]
  },
  {
   "cell_type": "code",
   "execution_count": 16,
   "id": "3739ad9d",
   "metadata": {},
   "outputs": [
    {
     "name": "stdout",
     "output_type": "stream",
     "text": [
      "2\n",
      "4\n",
      "6\n",
      "8\n",
      "10\n",
      "12\n",
      "14\n",
      "16\n",
      "18\n",
      "20\n",
      "22\n",
      "24\n",
      "26\n",
      "28\n",
      "30\n",
      "32\n",
      "34\n",
      "36\n",
      "38\n",
      "40\n",
      "42\n",
      "44\n",
      "46\n",
      "48\n",
      "50\n"
     ]
    }
   ],
   "source": [
    "for i in range(2,52,2):\n",
    "    print(i)"
   ]
  },
  {
   "cell_type": "code",
   "execution_count": 1,
   "id": "814c641b",
   "metadata": {},
   "outputs": [
    {
     "name": "stdout",
     "output_type": "stream",
     "text": [
      "15\n"
     ]
    }
   ],
   "source": [
    "n = 5\n",
    "sum = 0\n",
    "count = 1\n",
    "\n",
    "while(count <= n):\n",
    "    sum = sum + count\n",
    "    count= count + 1\n",
    "print(sum)\n",
    "    "
   ]
  },
  {
   "cell_type": "code",
   "execution_count": null,
   "id": "20226956",
   "metadata": {},
   "outputs": [
    {
     "name": "stdout",
     "output_type": "stream",
     "text": [
      "131.0\n",
      "25.0\n"
     ]
    }
   ],
   "source": [
    "\n",
    "#Covert Celsius to Fahrenheit\n",
    "\n",
    "def convert_temp(temp, unit):\n",
    "    if unit == \"C\":\n",
    "        return temp * 9 / 5 + 32\n",
    "    elif unit == \"F\":\n",
    "        return (temp - 32) * 5/9\n",
    "    else:\n",
    "        return None\n",
    "print(convert_temp(55,'C'))\n",
    "\n",
    "print(convert_temp(77,'F'))"
   ]
  },
  {
   "cell_type": "code",
   "execution_count": 18,
   "id": "1e828214",
   "metadata": {},
   "outputs": [
    {
     "name": "stdout",
     "output_type": "stream",
     "text": [
      "Not a strong password/n Passsword should contains\n",
      "Not a strong password\n"
     ]
    }
   ],
   "source": [
    "def Pass(Password):\n",
    "    if len(Password) < 8:\n",
    "        return False\n",
    "    if not any(char.islower() for char in Password):\n",
    "        print(\"Not a strong password/n Passsword should contains\")\n",
    "    if not any(char.isupper() for char in Password):\n",
    "        print(\"Not a strong password\")\n",
    "    if not any(char.isdigit() for char in Password):\n",
    "        print(\"Not a strong password\")\n",
    "    else:\n",
    "        print(\"Strong Password\")\n",
    "Pass(\"ADSDSDASDASD\")"
   ]
  },
  {
   "cell_type": "code",
   "execution_count": 15,
   "id": "78804751",
   "metadata": {},
   "outputs": [
    {
     "name": "stdout",
     "output_type": "stream",
     "text": [
      "No exams attempted.\n"
     ]
    }
   ],
   "source": [
    "scores = [0, 0, 0]\n",
    "\n",
    "if not any(scores):\n",
    "    print(\"No exams attempted.\")\n"
   ]
  },
  {
   "cell_type": "code",
   "execution_count": null,
   "id": "91a46cd1",
   "metadata": {},
   "outputs": [
    {
     "name": "stdout",
     "output_type": "stream",
     "text": [
      "Not a strong password\n",
      "Strong Password\n"
     ]
    }
   ],
   "source": [
    "print(\"Not a strong password\")"
   ]
  },
  {
   "cell_type": "code",
   "execution_count": 33,
   "id": "42fad5a0",
   "metadata": {},
   "outputs": [
    {
     "name": "stdout",
     "output_type": "stream",
     "text": [
      "False\n",
      "False\n"
     ]
    }
   ],
   "source": [
    "def is_strong_password(password):\n",
    "    \"\"\"This function checks if the password is strong or not\"\"\"\n",
    "    if len(password)<8:\n",
    "        return False\n",
    "    if any(char.isdigit() for char in password):\n",
    "        return False\n",
    "    if any(char.islower() for char in password):\n",
    "        return False\n",
    "    if any(char.isupper() for char in password):\n",
    "        return False\n",
    "    if any(char in '!@#$%^&*()_+' for char in password):\n",
    "        return False\n",
    "    return True\n",
    "\n",
    "## calling the function\n",
    "print(is_strong_password(\"WeakPwd\"))\n",
    "print(is_strong_password(\"Str0ngPwd!\"))\n",
    "    "
   ]
  },
  {
   "cell_type": "code",
   "execution_count": null,
   "id": "5ac9c5ed",
   "metadata": {},
   "outputs": [
    {
     "name": "stdout",
     "output_type": "stream",
     "text": [
      "85\n"
     ]
    }
   ],
   "source": [
    "\n",
    "cart = [\n",
    "    {'name': 'Apple','price': 5,'quantity': 10 },\n",
    "    {'name': 'banana','price': 7,'quantity': 5 },\n",
    "    ]\n",
    "\n",
    "def calculate_cart(cart):\n",
    "    total_cost = 0\n",
    "    for items in cart:\n",
    "        total_cost += items['price'] * items['quantity']\n",
    "    return total_cost\n",
    "        \n",
    "Ans = calculate_cart(cart)\n",
    "print(Ans)"
   ]
  },
  {
   "cell_type": "code",
   "execution_count": 16,
   "id": "3632c092",
   "metadata": {},
   "outputs": [
    {
     "name": "stdout",
     "output_type": "stream",
     "text": [
      "Hello, dvx\n"
     ]
    }
   ],
   "source": [
    "def greet_user():\n",
    "    name = input(\"Enter your name: \")\n",
    "    print(\"Hello,\", name)\n",
    "\n",
    "greet_user()\n"
   ]
  },
  {
   "cell_type": "code",
   "execution_count": 18,
   "id": "5e6b07fe",
   "metadata": {},
   "outputs": [
    {
     "name": "stdout",
     "output_type": "stream",
     "text": [
      "Total cost: 694\n"
     ]
    }
   ],
   "source": [
    "def create_cart():\n",
    "    cart = []\n",
    "    n = int(input(\"How many items? \"))\n",
    "    for i in range(n):\n",
    "        name = input(f\"Enter name of item {i+1}: \")\n",
    "        price = int(input(\"Enter price: \"))\n",
    "        quantity = int(input(\"Enter quantity: \"))\n",
    "        cart.append({'name': name, 'price': price, 'quantity': quantity})\n",
    "    return cart\n",
    "\n",
    "def calculate_cart(cart):\n",
    "    total = 0\n",
    "    for item in cart:\n",
    "        total += item['price'] * item['quantity']\n",
    "    return total\n",
    "\n",
    "cart = create_cart()\n",
    "print(\"Total cost:\", calculate_cart(cart))\n",
    "\n"
   ]
  },
  {
   "cell_type": "code",
   "execution_count": 22,
   "id": "32dd8f5e",
   "metadata": {},
   "outputs": [
    {
     "name": "stdout",
     "output_type": "stream",
     "text": [
      "True\n"
     ]
    }
   ],
   "source": [
    "def palindrome(S):\n",
    "    S =S.upper()\n",
    "    S =S.replace(\" \", \"\")\n",
    "    return S==S[:: -1]\n",
    "print(palindrome(\"A man a plan a canalpanama\"))"
   ]
  },
  {
   "cell_type": "code",
   "execution_count": 31,
   "id": "ea21cae6",
   "metadata": {},
   "outputs": [
    {
     "name": "stdout",
     "output_type": "stream",
     "text": [
      "aa\n"
     ]
    }
   ],
   "source": [
    "values = [0, \"\", 5]\n",
    "\n",
    "if any(values):\n",
    "    print(\"aa\")\n"
   ]
  },
  {
   "cell_type": "code",
   "execution_count": 44,
   "id": "b052dfc2",
   "metadata": {},
   "outputs": [
    {
     "name": "stdout",
     "output_type": "stream",
     "text": [
      "15\n"
     ]
    }
   ],
   "source": [
    "def countdown(n):\n",
    "    if n == 1:            # base case — stop here\n",
    "        return 1\n",
    "    else:\n",
    "        return n + countdown(n - 1)\n",
    "        \n",
    "    \n",
    "ans = countdown(5)\n",
    "print(ans)"
   ]
  },
  {
   "cell_type": "code",
   "execution_count": 45,
   "id": "57ca2d61",
   "metadata": {},
   "outputs": [
    {
     "name": "stdout",
     "output_type": "stream",
     "text": [
      "21\n"
     ]
    }
   ],
   "source": [
    "def sum(n):\n",
    "    if n == 1:\n",
    "        return 1\n",
    "    else:\n",
    "        return n + sum(n - 1)\n",
    "print(sum(6))\n",
    "    "
   ]
  },
  {
   "cell_type": "code",
   "execution_count": 55,
   "id": "e4a526bb",
   "metadata": {},
   "outputs": [
    {
     "name": "stdout",
     "output_type": "stream",
     "text": [
      "The factorial of 5 is 120\n"
     ]
    }
   ],
   "source": [
    "def fact(x):\n",
    "    if x == 1:\n",
    "        return 1\n",
    "    else:\n",
    "        return x * fact(x - 1)\n",
    "n = int(input(\"Enter the number: \"))\n",
    "print(f\"The factorial of {n} is\",fact(n))"
   ]
  },
  {
   "cell_type": "code",
   "execution_count": 64,
   "id": "bbaeb8b8",
   "metadata": {},
   "outputs": [
    {
     "name": "stdout",
     "output_type": "stream",
     "text": [
      "120\n"
     ]
    }
   ],
   "source": [
    "n = 5\n",
    "fact = 1\n",
    "for i in range(1, n + 1):\n",
    "    fact*= i\n",
    "print(fact)"
   ]
  },
  {
   "cell_type": "code",
   "execution_count": 65,
   "id": "4d04769d",
   "metadata": {},
   "outputs": [
    {
     "name": "stdout",
     "output_type": "stream",
     "text": [
      "5\n"
     ]
    }
   ],
   "source": [
    "def fibonacci(n):\n",
    "    if n == 0:\n",
    "        return 0\n",
    "    elif n == 1:\n",
    "        return 1\n",
    "    else:\n",
    "        return fibonacci(n-1) + fibonacci(n-2)\n",
    "\n",
    "print(fibonacci(5))"
   ]
  },
  {
   "cell_type": "code",
   "execution_count": 71,
   "id": "9d625884",
   "metadata": {},
   "outputs": [
    {
     "name": "stdout",
     "output_type": "stream",
     "text": [
      "\n"
     ]
    }
   ],
   "source": [
    "str = input(\"enter yhe string:\")\n",
    "for letter in set(str):\n",
    "    str.count(letter)\n",
    "print()\n",
    "  \n"
   ]
  },
  {
   "cell_type": "code",
   "execution_count": null,
   "id": "625eb0d6",
   "metadata": {},
   "outputs": [
    {
     "name": "stdout",
     "output_type": "stream",
     "text": [
      "11\n"
     ]
    }
   ],
   "source": [
    "addition = lambda a, b: a + b\n",
    "\n",
    "print(addition(4, 7))"
   ]
  },
  {
   "cell_type": "code",
   "execution_count": null,
   "id": "1b48acc4",
   "metadata": {},
   "outputs": [
    {
     "data": {
      "text/plain": [
       "[1, 4, 9, 16, 25]"
      ]
     },
     "execution_count": 73,
     "metadata": {},
     "output_type": "execute_result"
    }
   ],
   "source": [
    "numbers = [1,2,3,4,5]\n",
    "list(map(lambda x:x ** 2, numbers))"
   ]
  },
  {
   "cell_type": "code",
   "execution_count": 1,
   "id": "cb36ce40",
   "metadata": {},
   "outputs": [
    {
     "data": {
      "text/plain": [
       "[1, 4, 9, 16, 25, 36, 49, 64, 81]"
      ]
     },
     "execution_count": 1,
     "metadata": {},
     "output_type": "execute_result"
    }
   ],
   "source": [
    "numbers = [1,2,3,4,5,6,7,8,9]\n",
    "list(map(lambda x:x*x,numbers))"
   ]
  },
  {
   "cell_type": "code",
   "execution_count": 2,
   "id": "870a181f",
   "metadata": {},
   "outputs": [
    {
     "name": "stdout",
     "output_type": "stream",
     "text": [
      "[7, 9, 11, 13, 5]\n"
     ]
    }
   ],
   "source": [
    "numbers1=[1,2,3,4,5]\n",
    "numbers2=[6,7,8,9,0]\n",
    "\n",
    "added_numbers=list(map(lambda x,y: x + y,numbers1, numbers2))\n",
    "print(added_numbers)\n"
   ]
  },
  {
   "cell_type": "code",
   "execution_count": 4,
   "id": "5aa55b11",
   "metadata": {},
   "outputs": [
    {
     "data": {
      "text/plain": [
       "[2, 4, 6, 8, 10]"
      ]
     },
     "execution_count": 4,
     "metadata": {},
     "output_type": "execute_result"
    }
   ],
   "source": [
    "def even(num):\n",
    "    if num % 2 == 0:\n",
    "        return True\n",
    "    \n",
    "lst = [1,2,3,4,5,6,7,8,9,10]\n",
    "list(filter(even,lst))\n",
    "    "
   ]
  },
  {
   "cell_type": "code",
   "execution_count": null,
   "id": "6af20826",
   "metadata": {},
   "outputs": [
    {
     "data": {
      "text/plain": [
       "[{'name': 'Akshay', 'Age': 34}, {'name': 'balaji', 'Age': 45}]"
      ]
     },
     "execution_count": 8,
     "metadata": {},
     "output_type": "execute_result"
    }
   ],
   "source": [
    "dataset = [\n",
    "    {'name': 'Akshay', 'Age':34},\n",
    "    {'name': 'Kumar', 'Age':25},\n",
    "    {'name': 'balaji', 'Age':45},\n",
    "]\n",
    "\n",
    "def output(person):\n",
    "    return person['Age'] > 25\n",
    "\n",
    "\n",
    "list(filter(output,dataset))"
   ]
  },
  {
   "cell_type": "code",
   "execution_count": null,
   "id": "e4b34f75",
   "metadata": {},
   "outputs": [
    {
     "data": {
      "text/plain": [
       "[1, 4, 9, 16, 25, 36, 49, 64, 81]"
      ]
     },
     "execution_count": 12,
     "metadata": {},
     "output_type": "execute_result"
    }
   ],
   "source": [
    "\n",
    "\n",
    "numbers = [1,2,3,4,5,6,7,8,9]\n",
    "list(map(lambda x: x*x,numbers))"
   ]
  },
  {
   "cell_type": "code",
   "execution_count": null,
   "id": "40852393",
   "metadata": {},
   "outputs": [
    {
     "data": {
      "text/plain": [
       "[1, 4, 9, 16, 25, 36, 49, 64, 81]"
      ]
     },
     "execution_count": 13,
     "metadata": {},
     "output_type": "execute_result"
    }
   ],
   "source": [
    "def square(num):\n",
    "    return num * num\n",
    "numbers = [1,2,3,4,5,6,7,8,9]\n",
    "list(map(square,numbers))\n"
   ]
  },
  {
   "cell_type": "code",
   "execution_count": 13,
   "id": "76ad3f46",
   "metadata": {},
   "outputs": [
    {
     "name": "stdout",
     "output_type": "stream",
     "text": [
      "15\n"
     ]
    }
   ],
   "source": [
    "n = int(input(\"Enter the number:\"))\n",
    "total = 0\n",
    "for i in range(1, n+1):\n",
    "    total+=i\n",
    "print(total)    \n"
   ]
  },
  {
   "cell_type": "code",
   "execution_count": 11,
   "id": "92ba1f70",
   "metadata": {},
   "outputs": [
    {
     "name": "stdout",
     "output_type": "stream",
     "text": [
      "[7, 6, 5, 4]\n"
     ]
    }
   ],
   "source": [
    "# ans = (input(\"Enter the numbers:\"))\n",
    "lst = [4,5,6,7]\n",
    "\n",
    "result = lst[::-1]\n",
    "print(result)"
   ]
  },
  {
   "cell_type": "code",
   "execution_count": 5,
   "id": "1c540394",
   "metadata": {},
   "outputs": [
    {
     "name": "stdout",
     "output_type": "stream",
     "text": [
      "Reversed (as int): 3121\n"
     ]
    }
   ],
   "source": [
    "num = int(input(\"Enter the number: \"))\n",
    "rev = 0\n",
    "\n",
    "while num > 0:\n",
    "    rev = rev * 10 + num % 10\n",
    "    num //= 10\n",
    "\n",
    "print(\"Reversed (as int):\", rev)\n"
   ]
  },
  {
   "cell_type": "code",
   "execution_count": 3,
   "id": "53088593",
   "metadata": {},
   "outputs": [
    {
     "name": "stdout",
     "output_type": "stream",
     "text": [
      "15\n"
     ]
    }
   ],
   "source": [
    "lst = [1,2,3,4,5]\n",
    "to = 0\n",
    "for num in lst:\n",
    "    to+= num\n",
    "print(to)\n",
    "    \n",
    "    "
   ]
  },
  {
   "cell_type": "code",
   "execution_count": 4,
   "id": "a73b5bd2",
   "metadata": {},
   "outputs": [
    {
     "name": "stdout",
     "output_type": "stream",
     "text": [
      "15\n"
     ]
    }
   ],
   "source": [
    "lst = [1,2,3,4,5]\n",
    "print(sum(lst))"
   ]
  },
  {
   "cell_type": "code",
   "execution_count": 14,
   "id": "45a34ce5",
   "metadata": {},
   "outputs": [
    {
     "name": "stdout",
     "output_type": "stream",
     "text": [
      "<list_reverseiterator object at 0x000002B1FC75E710>\n"
     ]
    }
   ],
   "source": [
    "lst = [1,2,3,4,5]\n",
    "print(reversed(lst))"
   ]
  },
  {
   "cell_type": "code",
   "execution_count": 2,
   "id": "8b1f1784",
   "metadata": {},
   "outputs": [
    {
     "name": "stdout",
     "output_type": "stream",
     "text": [
      "[1, 4, 9, 16, 25]\n"
     ]
    }
   ],
   "source": [
    "lt = [1,2,3,4,5]\n",
    "ans = list(map(lambda a: a ** 2,lt))\n",
    "print(ans)"
   ]
  },
  {
   "cell_type": "code",
   "execution_count": 15,
   "id": "0a9a9b35",
   "metadata": {},
   "outputs": [
    {
     "name": "stdout",
     "output_type": "stream",
     "text": [
      "15\n"
     ]
    }
   ],
   "source": [
    "\n",
    "\n",
    "n = 1\n",
    "total = 0\n",
    "\n",
    "while n <=5:\n",
    "    total+=n\n",
    "    n+=1\n",
    "    \n",
    "    \n",
    "print(total)\n",
    "    \n",
    "    \n"
   ]
  },
  {
   "cell_type": "code",
   "execution_count": 10,
   "id": "dec433d1",
   "metadata": {},
   "outputs": [
    {
     "name": "stdout",
     "output_type": "stream",
     "text": [
      "15\n"
     ]
    }
   ],
   "source": [
    "n = 5\n",
    "total = 0\n",
    "count =  1\n",
    "for i in range(1, n+1):\n",
    "    total+=i\n",
    "    count+=1\n",
    "print(total)"
   ]
  },
  {
   "cell_type": "code",
   "execution_count": 17,
   "id": "4576662c",
   "metadata": {},
   "outputs": [
    {
     "name": "stdout",
     "output_type": "stream",
     "text": [
      "1\n",
      "2\n",
      "6\n",
      "24\n",
      "120\n"
     ]
    }
   ],
   "source": [
    "n = 5\n",
    "fact = 1\n",
    "for i in range(1, n+1):\n",
    "    fact*=i\n",
    "    print(fact)"
   ]
  },
  {
   "cell_type": "code",
   "execution_count": 23,
   "id": "07f52318",
   "metadata": {},
   "outputs": [
    {
     "name": "stdout",
     "output_type": "stream",
     "text": [
      "        * \n",
      "      * * * \n",
      "    * * * * * \n",
      "  * * * * * * * \n",
      "* * * * * * * * * \n"
     ]
    }
   ],
   "source": [
    "n = 5\n",
    "for i in range(1, n+1):\n",
    "    for space in range(n-i):\n",
    "        print(\" \", end=' ')\n",
    "    for star in range(2 * i - 1):\n",
    "        print(\"*\", end=\" \")\n",
    "    print()"
   ]
  },
  {
   "cell_type": "code",
   "execution_count": null,
   "id": "32797221",
   "metadata": {},
   "outputs": [
    {
     "name": "stdout",
     "output_type": "stream",
     "text": [
      "2 3 5 7 11 13 17 19 23 29 31 37 41 43 47 53 59 61 67 71 73 79 83 89 97 "
     ]
    }
   ],
   "source": [
    "for num in range(2, 101):\n",
    "    for j in range(2, num):\n",
    "        if num % j == 0:\n",
    "            break\n",
    "    else:\n",
    "        print(num, end=\" \")"
   ]
  },
  {
   "cell_type": "code",
   "execution_count": 1,
   "id": "f43fae05",
   "metadata": {},
   "outputs": [],
   "source": [
    "import datetime as dt"
   ]
  },
  {
   "cell_type": "code",
   "execution_count": 3,
   "id": "9b601d13",
   "metadata": {},
   "outputs": [
    {
     "data": {
      "text/plain": [
       "<module 'datetime' from 'c:\\\\Users\\\\DELL\\\\OneDrive\\\\Desktop\\\\Data Analyst course\\\\Python\\\\New folder\\\\venv\\\\Lib\\\\datetime.py'>"
      ]
     },
     "execution_count": 3,
     "metadata": {},
     "output_type": "execute_result"
    }
   ],
   "source": [
    "dt.datetime.now()\n",
    "dt"
   ]
  },
  {
   "cell_type": "code",
   "execution_count": null,
   "id": "9c30e34a",
   "metadata": {},
   "outputs": [],
   "source": []
  }
 ],
 "metadata": {
  "kernelspec": {
   "display_name": "Python 3",
   "language": "python",
   "name": "python3"
  },
  "language_info": {
   "codemirror_mode": {
    "name": "ipython",
    "version": 3
   },
   "file_extension": ".py",
   "mimetype": "text/x-python",
   "name": "python",
   "nbconvert_exporter": "python",
   "pygments_lexer": "ipython3",
   "version": "3.12.0"
  }
 },
 "nbformat": 4,
 "nbformat_minor": 5
}
